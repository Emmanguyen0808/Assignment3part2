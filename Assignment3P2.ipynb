{
 "cells": [
  {
   "cell_type": "code",
   "execution_count": 1,
   "id": "250b6ae8-58f5-473b-ad1f-f016682acf83",
   "metadata": {},
   "outputs": [],
   "source": [
    "import pandas as pd"
   ]
  },
  {
   "cell_type": "code",
   "execution_count": null,
   "id": "dc64703b-0301-4456-9206-36fe2be0995d",
   "metadata": {},
   "outputs": [],
   "source": [
    "#Loas the dataset"
   ]
  },
  {
   "cell_type": "code",
   "execution_count": 4,
   "id": "ecce6cda-227f-4a53-bb79-a5b6a46ec6ef",
   "metadata": {},
   "outputs": [],
   "source": [
    "df = pd.read_csv(\"titanic.csv\")"
   ]
  },
  {
   "cell_type": "code",
   "execution_count": null,
   "id": "95fb1f1b-b5d2-4fb7-bb51-90d367a62fb7",
   "metadata": {},
   "outputs": [],
   "source": [
    "#View the head of dataset"
   ]
  },
  {
   "cell_type": "code",
   "execution_count": 6,
   "id": "b9cd2a61-d065-43f7-b0e9-3f49f7b1822b",
   "metadata": {
    "scrolled": true
   },
   "outputs": [
    {
     "data": {
      "text/html": [
       "<div>\n",
       "<style scoped>\n",
       "    .dataframe tbody tr th:only-of-type {\n",
       "        vertical-align: middle;\n",
       "    }\n",
       "\n",
       "    .dataframe tbody tr th {\n",
       "        vertical-align: top;\n",
       "    }\n",
       "\n",
       "    .dataframe thead th {\n",
       "        text-align: right;\n",
       "    }\n",
       "</style>\n",
       "<table border=\"1\" class=\"dataframe\">\n",
       "  <thead>\n",
       "    <tr style=\"text-align: right;\">\n",
       "      <th></th>\n",
       "      <th>PassengerId</th>\n",
       "      <th>Survived</th>\n",
       "      <th>Pclass</th>\n",
       "      <th>Name</th>\n",
       "      <th>Sex</th>\n",
       "      <th>Age</th>\n",
       "      <th>SibSp</th>\n",
       "      <th>Parch</th>\n",
       "      <th>Ticket</th>\n",
       "      <th>Fare</th>\n",
       "      <th>Cabin</th>\n",
       "      <th>Embarked</th>\n",
       "    </tr>\n",
       "  </thead>\n",
       "  <tbody>\n",
       "    <tr>\n",
       "      <th>0</th>\n",
       "      <td>1</td>\n",
       "      <td>0</td>\n",
       "      <td>3</td>\n",
       "      <td>Braund, Mr. Owen Harris</td>\n",
       "      <td>male</td>\n",
       "      <td>22.0</td>\n",
       "      <td>1</td>\n",
       "      <td>0</td>\n",
       "      <td>A/5 21171</td>\n",
       "      <td>7.2500</td>\n",
       "      <td>NaN</td>\n",
       "      <td>S</td>\n",
       "    </tr>\n",
       "    <tr>\n",
       "      <th>1</th>\n",
       "      <td>2</td>\n",
       "      <td>1</td>\n",
       "      <td>1</td>\n",
       "      <td>Cumings, Mrs. John Bradley (Florence Briggs Th...</td>\n",
       "      <td>female</td>\n",
       "      <td>38.0</td>\n",
       "      <td>1</td>\n",
       "      <td>0</td>\n",
       "      <td>PC 17599</td>\n",
       "      <td>71.2833</td>\n",
       "      <td>C85</td>\n",
       "      <td>C</td>\n",
       "    </tr>\n",
       "    <tr>\n",
       "      <th>2</th>\n",
       "      <td>3</td>\n",
       "      <td>1</td>\n",
       "      <td>3</td>\n",
       "      <td>Heikkinen, Miss. Laina</td>\n",
       "      <td>female</td>\n",
       "      <td>26.0</td>\n",
       "      <td>0</td>\n",
       "      <td>0</td>\n",
       "      <td>STON/O2. 3101282</td>\n",
       "      <td>7.9250</td>\n",
       "      <td>NaN</td>\n",
       "      <td>S</td>\n",
       "    </tr>\n",
       "    <tr>\n",
       "      <th>3</th>\n",
       "      <td>4</td>\n",
       "      <td>1</td>\n",
       "      <td>1</td>\n",
       "      <td>Futrelle, Mrs. Jacques Heath (Lily May Peel)</td>\n",
       "      <td>female</td>\n",
       "      <td>35.0</td>\n",
       "      <td>1</td>\n",
       "      <td>0</td>\n",
       "      <td>113803</td>\n",
       "      <td>53.1000</td>\n",
       "      <td>C123</td>\n",
       "      <td>S</td>\n",
       "    </tr>\n",
       "    <tr>\n",
       "      <th>4</th>\n",
       "      <td>5</td>\n",
       "      <td>0</td>\n",
       "      <td>3</td>\n",
       "      <td>Allen, Mr. William Henry</td>\n",
       "      <td>male</td>\n",
       "      <td>35.0</td>\n",
       "      <td>0</td>\n",
       "      <td>0</td>\n",
       "      <td>373450</td>\n",
       "      <td>8.0500</td>\n",
       "      <td>NaN</td>\n",
       "      <td>S</td>\n",
       "    </tr>\n",
       "  </tbody>\n",
       "</table>\n",
       "</div>"
      ],
      "text/plain": [
       "   PassengerId  Survived  Pclass  \\\n",
       "0            1         0       3   \n",
       "1            2         1       1   \n",
       "2            3         1       3   \n",
       "3            4         1       1   \n",
       "4            5         0       3   \n",
       "\n",
       "                                                Name     Sex   Age  SibSp  \\\n",
       "0                            Braund, Mr. Owen Harris    male  22.0      1   \n",
       "1  Cumings, Mrs. John Bradley (Florence Briggs Th...  female  38.0      1   \n",
       "2                             Heikkinen, Miss. Laina  female  26.0      0   \n",
       "3       Futrelle, Mrs. Jacques Heath (Lily May Peel)  female  35.0      1   \n",
       "4                           Allen, Mr. William Henry    male  35.0      0   \n",
       "\n",
       "   Parch            Ticket     Fare Cabin Embarked  \n",
       "0      0         A/5 21171   7.2500   NaN        S  \n",
       "1      0          PC 17599  71.2833   C85        C  \n",
       "2      0  STON/O2. 3101282   7.9250   NaN        S  \n",
       "3      0            113803  53.1000  C123        S  \n",
       "4      0            373450   8.0500   NaN        S  "
      ]
     },
     "execution_count": 6,
     "metadata": {},
     "output_type": "execute_result"
    }
   ],
   "source": [
    "df.head()"
   ]
  },
  {
   "cell_type": "code",
   "execution_count": null,
   "id": "5d0b9a27-2a11-4776-8bbb-4a345ad00203",
   "metadata": {},
   "outputs": [],
   "source": [
    "#Analyzing the Pclass"
   ]
  },
  {
   "cell_type": "code",
   "execution_count": 10,
   "id": "af0bf168-80ec-4f7c-8e67-c8eff0d82c20",
   "metadata": {},
   "outputs": [
    {
     "data": {
      "text/plain": [
       "Pclass\n",
       "1    0.629630\n",
       "2    0.472826\n",
       "3    0.242363\n",
       "Name: Survived, dtype: float64"
      ]
     },
     "execution_count": 10,
     "metadata": {},
     "output_type": "execute_result"
    }
   ],
   "source": [
    "survival_rate_by_class = df.groupby(\"Pclass\")[\"Survived\"].mean()\n",
    "survival_rate_by_class"
   ]
  },
  {
   "cell_type": "code",
   "execution_count": 14,
   "id": "5703813f-91dc-4647-aaea-fd9da026fb1a",
   "metadata": {},
   "outputs": [],
   "source": [
    "import matplotlib.pyplot as plt"
   ]
  },
  {
   "cell_type": "code",
   "execution_count": 32,
   "id": "3d5aa6af-50ef-495f-8804-be106b9f6d13",
   "metadata": {
    "scrolled": true
   },
   "outputs": [
    {
     "data": {
      "image/png": "[encoded data removed]",
      "text/plain": [
       "<Figure size 800x500 with 1 Axes>"
      ]
     },
     "metadata": {},
     "output_type": "display_data"
    },
    {
     "data": {
      "text/plain": [
       "Pclass\n",
       "1    0.629630\n",
       "2    0.472826\n",
       "3    0.242363\n",
       "Name: Survived, dtype: float64"
      ]
     },
     "execution_count": 32,
     "metadata": {},
     "output_type": "execute_result"
    }
   ],
   "source": [
    "plt.figure(figsize=(8,5))\n",
    "survival_rate_by_class.plot(kind=\"bar\", color=[\"red\", \"yellow\", \"green\"])\n",
    "plt.xlabel(\"Passenger Class\")\n",
    "plt.ylabel(\"Survival Rate\")\n",
    "plt.title(\"Survival Rate by Passenger Class\")\n",
    "plt.xticks(rotation=0)\n",
    "plt.grid(axis=\"y\", linestyle=\"--\", alpha=0.7)\n",
    "plt.show()\n",
    "survival_rate_by_class"
   ]
  },
  {
   "cell_type": "code",
   "execution_count": null,
   "id": "a8252ebb-e6b5-424a-bcc7-b1fc95559564",
   "metadata": {},
   "outputs": [],
   "source": [
    "The survival rates for each class are:\n",
    "\n",
    "1st Class: 62.96%\n",
    "2nd Class: 47.28%\n",
    "3rd Class: 24.24%\n",
    "The higher the class, the higher the survival rate, which suggests that passenger class was strongly associated with survival—likely due to better access to lifeboats for higher-class passengers."
   ]
  },
  {
   "cell_type": "code",
   "execution_count": null,
   "id": "20f25623-83c2-4807-89b7-b7eb8abab9d8",
   "metadata": {},
   "outputs": [],
   "source": [
    "#Analyzing the Gender"
   ]
  },
  {
   "cell_type": "code",
   "execution_count": 22,
   "id": "8ed45f97-de7f-48a9-b44e-d10323ab5690",
   "metadata": {},
   "outputs": [],
   "source": [
    "survival_rate_by_gender = df.groupby(\"Sex\")[\"Survived\"].mean()"
   ]
  },
  {
   "cell_type": "code",
   "execution_count": 33,
   "id": "a94a5b8e-191e-4dd5-b573-1c2ada314fba",
   "metadata": {},
   "outputs": [
    {
     "data": {
      "image/png": "[encoded data removed]",
      "text/plain": [
       "<Figure size 800x500 with 1 Axes>"
      ]
     },
     "metadata": {},
     "output_type": "display_data"
    },
    {
     "data": {
      "text/plain": [
       "Sex\n",
       "female    0.742038\n",
       "male      0.188908\n",
       "Name: Survived, dtype: float64"
      ]
     },
     "execution_count": 33,
     "metadata": {},
     "output_type": "execute_result"
    }
   ],
   "source": [
    "plt.figure(figsize=(8,5))\n",
    "survival_rate_by_gender.plot(kind=\"bar\", color=[\"blue\", \"orange\"])\n",
    "plt.xlabel(\"Sex\")\n",
    "plt.ylabel(\"Survival Rate\")\n",
    "plt.title(\"Survival Rate by Gender\")\n",
    "plt.xticks(rotation=0)\n",
    "plt.grid(axis=\"y\", linestyle=\"--\", alpha=0.7)\n",
    "plt.show\n",
    "survival_rate_by_gender"
   ]
  },
  {
   "cell_type": "code",
   "execution_count": null,
   "id": "edde7dff-71e0-4c62-bb06-ed1733ec286e",
   "metadata": {},
   "outputs": [],
   "source": [
    "Survival Rate by Gender\n",
    "The histogram shows that female passengers have a survival rate more than male which over 70% while male passengers are just under 20%"
   ]
  },
  {
   "cell_type": "code",
   "execution_count": null,
   "id": "2aec4e5a-2068-40cf-a695-1f398df31a56",
   "metadata": {},
   "outputs": [],
   "source": [
    "#Analyzing by Age"
   ]
  },
  {
   "cell_type": "code",
   "execution_count": 26,
   "id": "596a3a81-5270-4b02-977c-3777f248e463",
   "metadata": {},
   "outputs": [],
   "source": [
    "survival_rate_by_age = df.groupby(\"Age\")[\"Survived\"].mean()"
   ]
  },
  {
   "cell_type": "code",
   "execution_count": 35,
   "id": "50527b8a-8d68-49ef-aad8-f9e277d2b8f5",
   "metadata": {},
   "outputs": [
    {
     "data": {
      "image/png": "[encoded data removed]",
      "text/plain": [
       "<Figure size 1000x600 with 1 Axes>"
      ]
     },
     "metadata": {},
     "output_type": "display_data"
    },
    {
     "data": {
      "text/html": [
       "<div>\n",
       "<style scoped>\n",
       "    .dataframe tbody tr th:only-of-type {\n",
       "        vertical-align: middle;\n",
       "    }\n",
       "\n",
       "    .dataframe tbody tr th {\n",
       "        vertical-align: top;\n",
       "    }\n",
       "\n",
       "    .dataframe thead th {\n",
       "        text-align: right;\n",
       "    }\n",
       "</style>\n",
       "<table border=\"1\" class=\"dataframe\">\n",
       "  <thead>\n",
       "    <tr style=\"text-align: right;\">\n",
       "      <th></th>\n",
       "      <th>count</th>\n",
       "      <th>mean</th>\n",
       "      <th>std</th>\n",
       "      <th>min</th>\n",
       "      <th>25%</th>\n",
       "      <th>50%</th>\n",
       "      <th>75%</th>\n",
       "      <th>max</th>\n",
       "    </tr>\n",
       "    <tr>\n",
       "      <th>Survived</th>\n",
       "      <th></th>\n",
       "      <th></th>\n",
       "      <th></th>\n",
       "      <th></th>\n",
       "      <th></th>\n",
       "      <th></th>\n",
       "      <th></th>\n",
       "      <th></th>\n",
       "    </tr>\n",
       "  </thead>\n",
       "  <tbody>\n",
       "    <tr>\n",
       "      <th>0</th>\n",
       "      <td>424.0</td>\n",
       "      <td>30.626179</td>\n",
       "      <td>14.172110</td>\n",
       "      <td>1.00</td>\n",
       "      <td>21.0</td>\n",
       "      <td>28.0</td>\n",
       "      <td>39.0</td>\n",
       "      <td>74.0</td>\n",
       "    </tr>\n",
       "    <tr>\n",
       "      <th>1</th>\n",
       "      <td>290.0</td>\n",
       "      <td>28.343690</td>\n",
       "      <td>14.950952</td>\n",
       "      <td>0.42</td>\n",
       "      <td>19.0</td>\n",
       "      <td>28.0</td>\n",
       "      <td>36.0</td>\n",
       "      <td>80.0</td>\n",
       "    </tr>\n",
       "  </tbody>\n",
       "</table>\n",
       "</div>"
      ],
      "text/plain": [
       "          count       mean        std   min   25%   50%   75%   max\n",
       "Survived                                                           \n",
       "0         424.0  30.626179  14.172110  1.00  21.0  28.0  39.0  74.0\n",
       "1         290.0  28.343690  14.950952  0.42  19.0  28.0  36.0  80.0"
      ]
     },
     "execution_count": 35,
     "metadata": {},
     "output_type": "execute_result"
    }
   ],
   "source": [
    "plt.figure(figsize=(10, 6))\n",
    "plt.hist(\n",
    "    [df[df[\"Survived\"] == 1][\"Age\"], df[df[\"Survived\"] == 0][\"Age\"]],\n",
    "    bins=30,\n",
    "    stacked=True,\n",
    "    color=[\"red\", \"blue\"],\n",
    "    label=[\"Survived\", \"Not Survived\"],\n",
    "    alpha=0.7\n",
    ")\n",
    "plt.xlabel(\"Age\")\n",
    "plt.ylabel(\"Number of Passengers\")\n",
    "plt.title(\"Survival Distribution by Age\")\n",
    "plt.legend()\n",
    "plt.grid(axis=\"y\", linestyle=\"--\", alpha=0.7)\n",
    "\n",
    "plt.show()\n",
    "\n",
    "age_survival_stats = df.groupby(\"Survived\")[\"Age\"].describe()\n",
    "age_survival_stats"
   ]
  },
  {
   "cell_type": "code",
   "execution_count": null,
   "id": "f8240eb3-fac8-48d4-a534-4a67fea3abf2",
   "metadata": {},
   "outputs": [],
   "source": [
    "Survival Rate by Age\n",
    "Mean Age of Survivors: 28.34 years\n",
    "Mean Age of Non-Survivors: 30.63 years\n",
    "The histogram shows that younger passengers had a slightly higher chance of survival.\n",
    "Therefore,\n",
    "Children and younger passengers appear to have had higher survival rates.\n",
    "Older passengers were less likely to survive, though there are exceptions."
   ]
  }
 ],
 "metadata": {
  "kernelspec": {
   "display_name": "Python 3 (ipykernel)",
   "language": "python",
   "name": "python3"
  },
  "language_info": {
   "codemirror_mode": {
    "name": "ipython",
    "version": 3
   },
   "file_extension": ".py",
   "mimetype": "text/x-python",
   "name": "python",
   "nbconvert_exporter": "python",
   "pygments_lexer": "ipython3",
   "version": "3.12.7"
  }
 },
 "nbformat": 4,
 "nbformat_minor": 5
}
